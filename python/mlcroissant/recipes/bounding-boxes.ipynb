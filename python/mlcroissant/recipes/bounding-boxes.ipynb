{
 "cells": [
  {
   "cell_type": "markdown",
   "id": "e9381cef-e48c-4bdb-9f5b-77237dcd57ea",
   "metadata": {},
   "source": [
    "# Bounding boxes in Croissant and `mlcroissant`"
   ]
  },
  {
   "cell_type": "markdown",
   "id": "bed782c2-397a-41ed-bd6d-6a6788a35981",
   "metadata": {},
   "source": [
    "In machine learning, particularly computer vision, **bounding boxes** are useful annotations for object detection and localization tasks. They serve as rectangular approximations that enclose objects of interest within an image, providing precise spatial information about their location and size.\n",
    "\n",
    "Bounding boxes are first-class citizens in Croissant with a special semantic data type: [`cr:BoundingBox`](https://mlcommones.org/schema/BoundingBox). In this tutorial, we explain how to use bounding boxes in Croissant through the `mlcroissant` library.\n",
    "\n",
    "First we need to install `mlcroissant`:"
   ]
  },
  {
   "cell_type": "code",
   "execution_count": null,
   "id": "736c44f1-5714-4e30-a644-56ddc4dfd8e5",
   "metadata": {},
   "outputs": [],
   "source": [
    "# Install mlcroissant from the source\n",
    "!pip install \"git+https://github.com/mlcommons/croissant.git@${GITHUB_HEAD_REF:-main}#subdirectory=python/mlcroissant&egg=mlcroissant[dev]\"\n",
    "\n",
    "# Needed imports in the notebook:\n",
    "import io\n",
    "import json\n",
    "\n",
    "from etils import epath\n",
    "from IPython.display import display\n",
    "import mlcroissant as mlc\n",
    "from PIL import Image\n",
    "from PIL import ImageDraw\n",
    "import requests"
   ]
  },
  {
   "cell_type": "markdown",
   "id": "2d6dbca4-342f-492b-8644-4bb72a8f76fa",
   "metadata": {},
   "source": [
    "Let's build a small version of [COCO2014 dataset](https://cocodataset.org) which offer bounding box annotations."
   ]
  },
  {
   "cell_type": "code",
   "execution_count": null,
   "id": "0baf307f-220f-4b38-9148-91ca4594b23b",
   "metadata": {},
   "outputs": [],
   "source": [
    "record_set = \"images_with_bounding_box\"\n",
    "\n",
    "# We download resources from the validation split to download smaller files.\n",
    "distribution = [\n",
    "    mlc.FileObject(\n",
    "        name=\"annotations_trainval2014.zip\",\n",
    "        description=\"\",\n",
    "        content_url=(\n",
    "            \"http://images.cocodataset.org/annotations/annotations_trainval2014.zip\"\n",
    "        ),\n",
    "        encoding_format=\"application/zip\",\n",
    "        sha256=\"031296bbc80c45a1d1f76bf9a90ead27e94e99ec629208449507a4917a3bf009\",\n",
    "    ),\n",
    "    mlc.FileObject(\n",
    "        name=\"annotations\",\n",
    "        description=\"\",\n",
    "        contained_in=[\"annotations_trainval2014.zip\"],\n",
    "        content_url=\"annotations/instances_val2014.json\",\n",
    "        encoding_format=\"application/json\",\n",
    "    ),\n",
    "]\n",
    "\n",
    "# The record set has the `image_id` and the `bbox` (short for bounding box).\n",
    "record_sets = [\n",
    "    mlc.RecordSet(\n",
    "        name=record_set,\n",
    "        fields=[\n",
    "            mlc.Field(\n",
    "                name=\"image_id\",\n",
    "                description=\"\",\n",
    "                data_types=mlc.DataType.INTEGER,\n",
    "                source=mlc.Source(\n",
    "                    uid=\"annotations\",\n",
    "                    node_type=\"fileObject\",\n",
    "                    extract=mlc.Extract(json_path=\"$.annotations[*].image_id\"),\n",
    "                ),\n",
    "            ),\n",
    "            mlc.Field(\n",
    "                name=\"bbox\",\n",
    "                description=\"\",\n",
    "                data_types=mlc.DataType.BOUNDING_BOX(mlc.Context()),\n",
    "                source=mlc.Source(\n",
    "                    uid=\"annotations\",\n",
    "                    node_type=\"fileObject\",\n",
    "                    extract=mlc.Extract(json_path=\"$.annotations[*].bbox\"),\n",
    "                ),\n",
    "            ),\n",
    "        ],\n",
    "    ),\n",
    "]\n",
    "\n",
    "metadata = mlc.Metadata(\n",
    "    name=\"COCO2014\",\n",
    "    url=\"https://cocodataset.org\",\n",
    "    distribution=distribution,\n",
    "    record_sets=record_sets,\n",
    ")"
   ]
  },
  {
   "cell_type": "code",
   "execution_count": null,
   "id": "00a53ec3-4ac6-4cb1-819f-8cdab9c6eef1",
   "metadata": {},
   "outputs": [],
   "source": [
    "file = epath.Path(\"croissant.json\")\n",
    "with file.open(\"w\") as f:\n",
    "    f.write(json.dumps(metadata.to_json(), indent=2))\n",
    "\n",
    "!grep -C 7 -n \"cr:BoundingBox\" croissant.json"
   ]
  },
  {
   "cell_type": "markdown",
   "id": "952eb694-4cd4-445e-82f4-74ae57aa0d5d",
   "metadata": {},
   "source": [
    "If you inspect the produced JSON-LD file after executing the previous command, you can see that it has a `\"dataType\": \"cr:BoundingBox\"`. In Croissant, bounding boxes are recognized as bounding boxes if they are 4-digit lists or 4-digit strings separated by a space. This means `[199.84, 200.46, 77.71, 70.88]` and `\"199.84 200.46 77.71 70.88\"` are valid bounding boxes. If you want to support more format, please [contact us on GitHub](https://github.com/mlcommons/croissant/issues/new).\n",
    "\n",
    "Now we can generate this dataset to yield the first record and visualize the bounding box:"
   ]
  },
  {
   "cell_type": "code",
   "execution_count": null,
   "id": "f77126f3-db46-47ac-8963-14764437a4aa",
   "metadata": {},
   "outputs": [],
   "source": [
    "dataset = mlc.Dataset(file=file)\n",
    "records = dataset.records(record_set=record_set)\n",
    "record = next(iter(records))\n",
    "print(\"The first record:\")\n",
    "print(json.dumps(record, indent=2))"
   ]
  },
  {
   "cell_type": "code",
   "execution_count": null,
   "id": "51f7ad63-8b5d-4372-aa7b-c0efa6e06339",
   "metadata": {},
   "outputs": [],
   "source": [
    "image_id, bbox = record[\"image_id\"], record[\"bbox\"]\n",
    "url = f\"http://images.cocodataset.org/val2014/COCO_val2014_{image_id:012d}.jpg\"\n",
    "\n",
    "# Download the image\n",
    "print(f\"Downloading {url}...\")\n",
    "response = requests.get(url)\n",
    "image = Image.open(io.BytesIO(response.content))\n",
    "draw = ImageDraw.Draw(image)\n",
    "\n",
    "# COCO uses the XYWH format. PIL uses the XYXY format.\n",
    "x1, y1, w, h = bbox\n",
    "draw.rectangle((x1, y1, x1 + w, y1 + h), outline=(0, 255, 0), width=2)\n",
    "display(image)"
   ]
  },
  {
   "cell_type": "code",
   "execution_count": null,
   "id": "3ea44fc8-bdd2-44d8-84de-7b6195ff5409",
   "metadata": {},
   "outputs": [],
   "source": []
  }
 ],
 "metadata": {
  "kernelspec": {
   "display_name": "Python 3 (ipykernel)",
   "language": "python",
   "name": "python3"
  },
  "language_info": {
   "codemirror_mode": {
    "name": "ipython",
    "version": 3
   },
   "file_extension": ".py",
   "mimetype": "text/x-python",
   "name": "python",
   "nbconvert_exporter": "python",
   "pygments_lexer": "ipython3",
   "version": "3.11.5"
  }
 },
 "nbformat": 4,
 "nbformat_minor": 5
}
