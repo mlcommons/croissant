{
  "cells": [
    {
      "cell_type": "markdown",
      "id": "VUe4xwyEk5BU",
      "metadata": {
        "id": "VUe4xwyEk5BU"
      },
      "source": [
        "# Install dependencies"
      ]
    },
    {
      "cell_type": "code",
      "execution_count": 1,
      "id": "773ed6d3-3d6c-4e90-90b1-064384e32c11",
      "metadata": {
        "id": "773ed6d3-3d6c-4e90-90b1-064384e32c11"
      },
      "outputs": [],
      "source": [
        "# Install dependencies\n",
        "try:\n",
        "    from ceda_datapoint import DataPointClient\n",
        "except ImportError as exc:\n",
        "    !pip install ceda-datapoint\n",
        "    from ceda_datapoint import DataPointClient"
      ]
    },
    {
      "cell_type": "markdown",
      "id": "N6gaFRbclCf5",
      "metadata": {
        "id": "N6gaFRbclCf5"
      },
      "source": [
        "# Create a client instance - for searching the CEDA STAC catalog"
      ]
    },
    {
      "cell_type": "code",
      "execution_count": 2,
      "id": "4946c7bd-a5c8-451c-bbcd-60aeef22d244",
      "metadata": {
        "id": "4946c7bd-a5c8-451c-bbcd-60aeef22d244",
        "colab": {
          "base_uri": "https://localhost:8080/"
        },
        "outputId": "ef5d33f6-932a-41df-b7c8-2e681bf1e91d"
      },
      "outputs": [
        {
          "output_type": "execute_result",
          "data": {
            "text/plain": [
              "\n",
              "<DataPointClient: CEDA-217396>\n",
              " - url: https://api.stac.ceda.ac.uk\n",
              " - organisation: CEDA"
            ]
          },
          "metadata": {},
          "execution_count": 2
        }
      ],
      "source": [
        "client = DataPointClient(org=\"CEDA\")\n",
        "client"
      ]
    },
    {
      "cell_type": "markdown",
      "id": "pmQl2GMnlMT-",
      "metadata": {
        "id": "pmQl2GMnlMT-"
      },
      "source": [
        "# Basic search\n",
        "Perform a basic search of the CMIP6 climate model simulations dataset, filtering on experiment, activity and institution:"
      ]
    },
    {
      "cell_type": "code",
      "execution_count": 3,
      "id": "d17f347c-f531-4495-ba00-a60a9eb18ab2",
      "metadata": {
        "id": "d17f347c-f531-4495-ba00-a60a9eb18ab2"
      },
      "outputs": [],
      "source": [
        "search_basic = client.search(\n",
        "    collections=['cmip6'],\n",
        "    query=[\n",
        "        'cmip6:experiment_id=ssp585',\n",
        "        'cmip6:activity_id=ScenarioMIP',\n",
        "        'cmip6:institution_id=KIOST',\n",
        "    ],\n",
        "    max_items = 10\n",
        ")"
      ]
    },
    {
      "cell_type": "markdown",
      "id": "Lw2RK-WClQrV",
      "metadata": {
        "id": "Lw2RK-WClQrV"
      },
      "source": [
        "# Collect up the \"cloud assets\" connected with the search results\n",
        "This method collects up the cloud assets, which may be Zarr, NetCDF or Kerchunk files. The latter represent an index that points to content within other files (typically NetCDF).\n",
        "\n",
        "The files themselves can be served over a variety of protocols, including:\n",
        "\n",
        "POSIX: local file system\n",
        "HTTP(S): old-fashioned HTTP(S) access\n",
        "S3: using Amazon's S3 protocol (over HTTP(S))\n",
        "We identify them and then list the related products."
      ]
    },
    {
      "cell_type": "code",
      "execution_count": 4,
      "id": "015a65f0-45bf-4b1c-bee8-630f910b667e",
      "metadata": {
        "id": "015a65f0-45bf-4b1c-bee8-630f910b667e",
        "colab": {
          "base_uri": "https://localhost:8080/"
        },
        "outputId": "afd86dd5-102a-4d40-9883-1a71d6d75847"
      },
      "outputs": [
        {
          "output_type": "execute_result",
          "data": {
            "text/plain": [
              "\n",
              "<DataPointCluster: CEDA-217396-389849-326369 (Datasets: 10)>\n",
              " - url: https://api.stac.ceda.ac.uk\n",
              " - organisation: CEDA\n",
              " - search_terms: {'query': ['cmip6:experiment_id=ssp585', 'cmip6:activity_id=ScenarioMIP', 'cmip6:institution_id=KIOST'], 'max_items': 10}\n",
              " - collections: ['cmip6']\n",
              " - products: 10\n",
              "Products:\n",
              " - CMIP6.ScenarioMIP.KIOST.KIOST-ESM.ssp585.r1i1p1f1.Amon.vas.gr1.v20191106-reference_file: kerchunk\n",
              " - CMIP6.ScenarioMIP.KIOST.KIOST-ESM.ssp585.r1i1p1f1.Amon.uas.gr1.v20210319-reference_file: kerchunk\n",
              " - CMIP6.ScenarioMIP.KIOST.KIOST-ESM.ssp585.r1i1p1f1.Amon.tas.gr1.v20191106-reference_file: kerchunk\n",
              " - CMIP6.ScenarioMIP.KIOST.KIOST-ESM.ssp585.r1i1p1f1.Amon.sfcWind.gr1.v20191106-reference_file: kerchunk\n",
              " - CMIP6.ScenarioMIP.KIOST.KIOST-ESM.ssp585.r1i1p1f1.Amon.rsus.gr1.v20191106-reference_file: kerchunk\n",
              " - CMIP6.ScenarioMIP.KIOST.KIOST-ESM.ssp585.r1i1p1f1.Amon.rsds.gr1.v20191106-reference_file: kerchunk\n",
              " - CMIP6.ScenarioMIP.KIOST.KIOST-ESM.ssp585.r1i1p1f1.Amon.rlus.gr1.v20191106-reference_file: kerchunk\n",
              " - CMIP6.ScenarioMIP.KIOST.KIOST-ESM.ssp585.r1i1p1f1.Amon.rlds.gr1.v20191106-reference_file: kerchunk\n",
              " - CMIP6.ScenarioMIP.KIOST.KIOST-ESM.ssp585.r1i1p1f1.Amon.psl.gr1.v20191106-reference_file: kerchunk\n",
              " - CMIP6.ScenarioMIP.KIOST.KIOST-ESM.ssp585.r1i1p1f1.Amon.prsn.gr1.v20210928-reference_file: kerchunk"
            ]
          },
          "metadata": {},
          "execution_count": 4
        }
      ],
      "source": [
        "cluster = search_basic.collect_cloud_assets()\n",
        "cluster"
      ]
    },
    {
      "cell_type": "code",
      "execution_count": 5,
      "id": "80be1aba-34a1-4a78-9526-0a8b664e7e4d",
      "metadata": {
        "id": "80be1aba-34a1-4a78-9526-0a8b664e7e4d"
      },
      "outputs": [],
      "source": [
        "product = cluster[2]\n",
        "ds = product.open_dataset()"
      ]
    },
    {
      "cell_type": "code",
      "execution_count": 6,
      "id": "973edc23-f9a9-4f47-b1f0-8ef9a0354732",
      "metadata": {
        "id": "973edc23-f9a9-4f47-b1f0-8ef9a0354732",
        "colab": {
          "base_uri": "https://localhost:8080/"
        },
        "outputId": "d1708be3-82c3-4349-b9a9-e1fe467fbaa5"
      },
      "outputs": [
        {
          "output_type": "execute_result",
          "data": {
            "text/plain": [
              "['__class__',\n",
              " '__delattr__',\n",
              " '__dict__',\n",
              " '__dir__',\n",
              " '__doc__',\n",
              " '__eq__',\n",
              " '__format__',\n",
              " '__ge__',\n",
              " '__getattribute__',\n",
              " '__getstate__',\n",
              " '__gt__',\n",
              " '__hash__',\n",
              " '__init__',\n",
              " '__init_subclass__',\n",
              " '__le__',\n",
              " '__lt__',\n",
              " '__module__',\n",
              " '__ne__',\n",
              " '__new__',\n",
              " '__reduce__',\n",
              " '__reduce_ex__',\n",
              " '__repr__',\n",
              " '__setattr__',\n",
              " '__sizeof__',\n",
              " '__slots__',\n",
              " '__str__',\n",
              " '__subclasshook__',\n",
              " '__weakref__',\n",
              " '_mapper',\n",
              " '_multiple_options',\n",
              " '_open_cfa',\n",
              " '_open_cog',\n",
              " '_open_kerchunk',\n",
              " '_open_zarr',\n",
              " '_prepare_dataset',\n",
              " '_set_visibility',\n",
              " 'attributes',\n",
              " 'bbox',\n",
              " 'cloud_format',\n",
              " 'collection',\n",
              " 'end_datetime',\n",
              " 'get_attribute',\n",
              " 'help',\n",
              " 'href',\n",
              " 'id',\n",
              " 'info',\n",
              " 'meta',\n",
              " 'open_asset',\n",
              " 'open_dataset',\n",
              " 'stac_attributes',\n",
              " 'start_datetime',\n",
              " 'units',\n",
              " 'variables']"
            ]
          },
          "metadata": {},
          "execution_count": 6
        }
      ],
      "source": [
        "dir(product)"
      ]
    },
    {
      "cell_type": "markdown",
      "id": "AFjrerROlWcG",
      "metadata": {
        "id": "AFjrerROlWcG"
      },
      "source": [
        "# Select a product and use it (as an Xarray Dataset)\n",
        "A product has an .open_dataset() method, which loads it (lazily) into an xarray.Dataset, making it ready for use in the Python session."
      ]
    },
    {
      "cell_type": "code",
      "execution_count": 7,
      "id": "94d7c9ae-8a94-4b0a-8d8d-f1f3ef4083a8",
      "metadata": {
        "id": "94d7c9ae-8a94-4b0a-8d8d-f1f3ef4083a8",
        "colab": {
          "base_uri": "https://localhost:8080/",
          "height": 472
        },
        "outputId": "db53cf0c-3d2d-4d7b-a08a-1e958e499c14"
      },
      "outputs": [
        {
          "output_type": "display_data",
          "data": {
            "text/plain": [
              "<Figure size 640x480 with 2 Axes>"
            ],
            "image/png": "[encoded data removed]"
          },
          "metadata": {}
        }
      ],
      "source": [
        "tas_product = None\n",
        "\n",
        "for product in cluster:\n",
        "    if \"tas\" in product.id:\n",
        "        tas_product = product\n",
        "        break\n",
        "\n",
        "if tas_product:\n",
        "    ds = tas_product.open_dataset()\n",
        "    ds.tas.sel(time=\"2015-01-17 12:00:00\").squeeze().plot()\n",
        "else:\n",
        "    print(\"tas variable not found in cluster\")"
      ]
    },
    {
      "cell_type": "code",
      "execution_count": 8,
      "id": "c6cb026b-9d04-43a2-96fb-ca1c11518a06",
      "metadata": {
        "id": "c6cb026b-9d04-43a2-96fb-ca1c11518a06",
        "colab": {
          "base_uri": "https://localhost:8080/"
        },
        "outputId": "1382db3d-bde9-49ed-a90f-55ec398c6b0a"
      },
      "outputs": [
        {
          "output_type": "stream",
          "name": "stdout",
          "text": [
            "CMIP6.ScenarioMIP.KIOST.KIOST-ESM.ssp585.r1i1p1f1.Amon.tas.gr1.v20191106-reference_file\n",
            "dict_keys(['type', 'stac_version', 'stac_extensions', 'id', 'geometry', 'bbox', 'links', 'collection'])\n",
            "{'type': 'Feature', 'stac_version': '1.1.0', 'stac_extensions': ['https://stac-extensions.github.io/cmip6/v1.0.0/schema.json'], 'id': 'CMIP6.ScenarioMIP.KIOST.KIOST-ESM.ssp585.r1i1p1f1.Amon.tas.gr1.v20191106', 'geometry': {'type': 'Polygon', 'coordinates': [[[-179.0625, -90.0], [179.0625, -90.0], [179.0625, 90.0], [-179.0625, 90.0], [-179.0625, -90.0]]]}, 'bbox': [-179.0625, -90.0, 179.0625, 90.0], 'links': [{'rel': 'self', 'href': 'https://api.stac.ceda.ac.uk/collections/cmip6/items/CMIP6.ScenarioMIP.KIOST.KIOST-ESM.ssp585.r1i1p1f1.Amon.tas.gr1.v20191106', 'type': 'application/geo+json'}, {'rel': 'parent', 'href': 'https://api.stac.ceda.ac.uk/collections/cmip6', 'type': 'application/json'}, {'rel': 'collection', 'href': 'https://api.stac.ceda.ac.uk/collections/cmip6', 'type': 'application/json', 'title': 'CMIP6'}, {'rel': 'root', 'href': 'https://api.stac.ceda.ac.uk', 'type': 'application/json', 'title': 'CEDA STAC API'}], 'collection': 'cmip6'}\n"
          ]
        }
      ],
      "source": [
        "for product in cluster:\n",
        "    if \"tas\" in product.id:\n",
        "        print(product.id)\n",
        "        print(product.stac_attributes.keys())\n",
        "        print(product.stac_attributes)\n",
        "        break"
      ]
    },
    {
      "cell_type": "code",
      "execution_count": 9,
      "id": "0c79a35e-cd47-4d94-b05d-b757dacd64d3",
      "metadata": {
        "id": "0c79a35e-cd47-4d94-b05d-b757dacd64d3",
        "colab": {
          "base_uri": "https://localhost:8080/"
        },
        "outputId": "b6a7f74d-3e54-4160-8999-f56f36a7ae10"
      },
      "outputs": [
        {
          "output_type": "stream",
          "name": "stdout",
          "text": [
            "\n",
            "Product ID: CMIP6.ScenarioMIP.KIOST.KIOST-ESM.ssp585.r1i1p1f1.Amon.vas.gr1.v20191106-reference_file\n",
            "Available stac_attributes keys: dict_keys(['type', 'stac_version', 'stac_extensions', 'id', 'geometry', 'bbox', 'links', 'collection'])\n",
            "\n",
            "Product ID: CMIP6.ScenarioMIP.KIOST.KIOST-ESM.ssp585.r1i1p1f1.Amon.uas.gr1.v20210319-reference_file\n",
            "Available stac_attributes keys: dict_keys(['type', 'stac_version', 'stac_extensions', 'id', 'geometry', 'bbox', 'links', 'collection'])\n",
            "\n",
            "Product ID: CMIP6.ScenarioMIP.KIOST.KIOST-ESM.ssp585.r1i1p1f1.Amon.tas.gr1.v20191106-reference_file\n",
            "Available stac_attributes keys: dict_keys(['type', 'stac_version', 'stac_extensions', 'id', 'geometry', 'bbox', 'links', 'collection'])\n",
            "\n",
            "Product ID: CMIP6.ScenarioMIP.KIOST.KIOST-ESM.ssp585.r1i1p1f1.Amon.sfcWind.gr1.v20191106-reference_file\n",
            "Available stac_attributes keys: dict_keys(['type', 'stac_version', 'stac_extensions', 'id', 'geometry', 'bbox', 'links', 'collection'])\n",
            "\n",
            "Product ID: CMIP6.ScenarioMIP.KIOST.KIOST-ESM.ssp585.r1i1p1f1.Amon.rsus.gr1.v20191106-reference_file\n",
            "Available stac_attributes keys: dict_keys(['type', 'stac_version', 'stac_extensions', 'id', 'geometry', 'bbox', 'links', 'collection'])\n",
            "\n",
            "Product ID: CMIP6.ScenarioMIP.KIOST.KIOST-ESM.ssp585.r1i1p1f1.Amon.rsds.gr1.v20191106-reference_file\n",
            "Available stac_attributes keys: dict_keys(['type', 'stac_version', 'stac_extensions', 'id', 'geometry', 'bbox', 'links', 'collection'])\n",
            "\n",
            "Product ID: CMIP6.ScenarioMIP.KIOST.KIOST-ESM.ssp585.r1i1p1f1.Amon.rlus.gr1.v20191106-reference_file\n",
            "Available stac_attributes keys: dict_keys(['type', 'stac_version', 'stac_extensions', 'id', 'geometry', 'bbox', 'links', 'collection'])\n",
            "\n",
            "Product ID: CMIP6.ScenarioMIP.KIOST.KIOST-ESM.ssp585.r1i1p1f1.Amon.rlds.gr1.v20191106-reference_file\n",
            "Available stac_attributes keys: dict_keys(['type', 'stac_version', 'stac_extensions', 'id', 'geometry', 'bbox', 'links', 'collection'])\n",
            "\n",
            "Product ID: CMIP6.ScenarioMIP.KIOST.KIOST-ESM.ssp585.r1i1p1f1.Amon.psl.gr1.v20191106-reference_file\n",
            "Available stac_attributes keys: dict_keys(['type', 'stac_version', 'stac_extensions', 'id', 'geometry', 'bbox', 'links', 'collection'])\n",
            "\n",
            "Product ID: CMIP6.ScenarioMIP.KIOST.KIOST-ESM.ssp585.r1i1p1f1.Amon.prsn.gr1.v20210928-reference_file\n",
            "Available stac_attributes keys: dict_keys(['type', 'stac_version', 'stac_extensions', 'id', 'geometry', 'bbox', 'links', 'collection'])\n"
          ]
        }
      ],
      "source": [
        "for product in cluster:\n",
        "    print(f\"\\nProduct ID: {product.id}\")\n",
        "    print(\"Available stac_attributes keys:\", product.stac_attributes.keys())"
      ]
    },
    {
      "cell_type": "code",
      "execution_count": 10,
      "id": "b8ab3366-2583-49b7-b8cd-b9a27e1c6a79",
      "metadata": {
        "id": "b8ab3366-2583-49b7-b8cd-b9a27e1c6a79",
        "colab": {
          "base_uri": "https://localhost:8080/"
        },
        "outputId": "90b04d07-a269-4a21-bbf3-d6ddcc237182"
      },
      "outputs": [
        {
          "output_type": "stream",
          "name": "stdout",
          "text": [
            "CMIP6.ScenarioMIP.KIOST.KIOST-ESM.ssp585.r1i1p1f1.Amon.tas.gr1.v20191106-reference_file\n"
          ]
        }
      ],
      "source": [
        "tas_products = [p for p in cluster if \"tas\" in p.id]\n",
        "\n",
        "for p in tas_products:\n",
        "    print(p.id)"
      ]
    },
    {
      "cell_type": "code",
      "execution_count": 11,
      "id": "0d37344c-7a35-4baf-b596-4993810a7cfb",
      "metadata": {
        "id": "0d37344c-7a35-4baf-b596-4993810a7cfb",
        "colab": {
          "base_uri": "https://localhost:8080/"
        },
        "outputId": "6c11495a-f51d-4e22-fb09-3fb521c8134b"
      },
      "outputs": [
        {
          "output_type": "stream",
          "name": "stdout",
          "text": [
            "STAC Metadata for Product ID: CMIP6.ScenarioMIP.KIOST.KIOST-ESM.ssp585.r1i1p1f1.Amon.tas.gr1.v20191106-reference_file\n",
            "STAC Attributes: {'type': 'Feature', 'stac_version': '1.1.0', 'stac_extensions': ['https://stac-extensions.github.io/cmip6/v1.0.0/schema.json'], 'id': 'CMIP6.ScenarioMIP.KIOST.KIOST-ESM.ssp585.r1i1p1f1.Amon.tas.gr1.v20191106', 'geometry': {'type': 'Polygon', 'coordinates': [[[-179.0625, -90.0], [179.0625, -90.0], [179.0625, 90.0], [-179.0625, 90.0], [-179.0625, -90.0]]]}, 'bbox': [-179.0625, -90.0, 179.0625, 90.0], 'links': [{'rel': 'self', 'href': 'https://api.stac.ceda.ac.uk/collections/cmip6/items/CMIP6.ScenarioMIP.KIOST.KIOST-ESM.ssp585.r1i1p1f1.Amon.tas.gr1.v20191106', 'type': 'application/geo+json'}, {'rel': 'parent', 'href': 'https://api.stac.ceda.ac.uk/collections/cmip6', 'type': 'application/json'}, {'rel': 'collection', 'href': 'https://api.stac.ceda.ac.uk/collections/cmip6', 'type': 'application/json', 'title': 'CMIP6'}, {'rel': 'root', 'href': 'https://api.stac.ceda.ac.uk', 'type': 'application/json', 'title': 'CEDA STAC API'}], 'collection': 'cmip6'}\n",
            "type: Feature\n",
            "stac_version: 1.1.0\n",
            "stac_extensions: ['https://stac-extensions.github.io/cmip6/v1.0.0/schema.json']\n",
            "id: CMIP6.ScenarioMIP.KIOST.KIOST-ESM.ssp585.r1i1p1f1.Amon.tas.gr1.v20191106\n",
            "geometry: {'type': 'Polygon', 'coordinates': [[[-179.0625, -90.0], [179.0625, -90.0], [179.0625, 90.0], [-179.0625, 90.0], [-179.0625, -90.0]]]}\n",
            "bbox: [-179.0625, -90.0, 179.0625, 90.0]\n",
            "links: [{'rel': 'self', 'href': 'https://api.stac.ceda.ac.uk/collections/cmip6/items/CMIP6.ScenarioMIP.KIOST.KIOST-ESM.ssp585.r1i1p1f1.Amon.tas.gr1.v20191106', 'type': 'application/geo+json'}, {'rel': 'parent', 'href': 'https://api.stac.ceda.ac.uk/collections/cmip6', 'type': 'application/json'}, {'rel': 'collection', 'href': 'https://api.stac.ceda.ac.uk/collections/cmip6', 'type': 'application/json', 'title': 'CMIP6'}, {'rel': 'root', 'href': 'https://api.stac.ceda.ac.uk', 'type': 'application/json', 'title': 'CEDA STAC API'}]\n",
            "collection: cmip6\n"
          ]
        }
      ],
      "source": [
        "# Access metadata for the selected 'tas' product\n",
        "if tas_product:\n",
        "    metadata = tas_product.stac_attributes\n",
        "    print(\"STAC Metadata for Product ID:\", tas_product.id)\n",
        "    print(\"STAC Attributes:\", metadata)\n",
        "\n",
        "    # If you'd like to see more details or other attributes:\n",
        "    for key, value in metadata.items():\n",
        "        print(f\"{key}: {value}\")\n",
        "else:\n",
        "    print(\"tas product not found.\")"
      ]
    },
    {
      "cell_type": "code",
      "execution_count": 12,
      "id": "181c1683-1864-4049-a5ad-de985f683063",
      "metadata": {
        "id": "181c1683-1864-4049-a5ad-de985f683063",
        "colab": {
          "base_uri": "https://localhost:8080/"
        },
        "outputId": "44e7be0f-ff54-4a96-a6ae-10d951bcf893"
      },
      "outputs": [
        {
          "output_type": "stream",
          "name": "stdout",
          "text": [
            "ID: CMIP6.ScenarioMIP.KIOST.KIOST-ESM.ssp585.r1i1p1f1.Amon.tas.gr1.v20191106-reference_file\n",
            "Type: Feature\n",
            "STAC Version: 1.1.0\n",
            "Collection: cmip6\n",
            "Links: [{'rel': 'self', 'href': 'https://api.stac.ceda.ac.uk/collections/cmip6/items/CMIP6.ScenarioMIP.KIOST.KIOST-ESM.ssp585.r1i1p1f1.Amon.tas.gr1.v20191106', 'type': 'application/geo+json'}, {'rel': 'parent', 'href': 'https://api.stac.ceda.ac.uk/collections/cmip6', 'type': 'application/json'}, {'rel': 'collection', 'href': 'https://api.stac.ceda.ac.uk/collections/cmip6', 'type': 'application/json', 'title': 'CMIP6'}, {'rel': 'root', 'href': 'https://api.stac.ceda.ac.uk', 'type': 'application/json', 'title': 'CEDA STAC API'}]\n",
            "Bounding Box: [-179.0625, -90.0, 179.0625, 90.0]\n",
            "Geometry: {'type': 'Polygon', 'coordinates': [[[-179.0625, -90.0], [179.0625, -90.0], [179.0625, 90.0], [-179.0625, 90.0], [-179.0625, -90.0]]]}\n"
          ]
        }
      ],
      "source": [
        "if tas_product:\n",
        "    # Extract STAC metadata fields\n",
        "    metadata = tas_product.stac_attributes\n",
        "    item_metadata = {\n",
        "        \"ID\": tas_product.id,\n",
        "        \"Type\": metadata.get(\"type\"),\n",
        "        \"STAC Version\": metadata.get(\"stac_version\"),\n",
        "        \"Collection\": metadata.get(\"collection\"),\n",
        "        \"Links\": metadata.get(\"links\"),\n",
        "        \"Bounding Box\": metadata.get(\"bbox\"),\n",
        "        \"Geometry\": metadata.get(\"geometry\")\n",
        "    }\n",
        "\n",
        "    # Display metadata\n",
        "    for key, value in item_metadata.items():\n",
        "        print(f\"{key}: {value}\")\n",
        "else:\n",
        "    print(\"tas product not found.\")"
      ]
    },
    {
      "cell_type": "code",
      "execution_count": 13,
      "id": "f9448c0c-3078-42a3-8c52-f0ea98c8f19f",
      "metadata": {
        "id": "f9448c0c-3078-42a3-8c52-f0ea98c8f19f",
        "colab": {
          "base_uri": "https://localhost:8080/"
        },
        "outputId": "763f14b7-96d5-4a62-8455-c664ce38aa6d"
      },
      "outputs": [
        {
          "output_type": "stream",
          "name": "stdout",
          "text": [
            "['__class__', '__delattr__', '__dict__', '__dir__', '__doc__', '__eq__', '__format__', '__ge__', '__getattribute__', '__getstate__', '__gt__', '__hash__', '__init__', '__init_subclass__', '__le__', '__lt__', '__module__', '__ne__', '__new__', '__reduce__', '__reduce_ex__', '__repr__', '__setattr__', '__sizeof__', '__slots__', '__str__', '__subclasshook__', '__weakref__', '_mapper', '_multiple_options', '_open_cfa', '_open_cog', '_open_kerchunk', '_open_zarr', '_prepare_dataset', '_set_visibility', 'attributes', 'bbox', 'cloud_format', 'collection', 'end_datetime', 'get_attribute', 'help', 'href', 'id', 'info', 'meta', 'open_asset', 'open_dataset', 'stac_attributes', 'start_datetime', 'units', 'variables']\n"
          ]
        }
      ],
      "source": [
        "print(dir(tas_product))"
      ]
    },
    {
      "cell_type": "markdown",
      "id": "hFnwLg3MmX5S",
      "metadata": {
        "id": "hFnwLg3MmX5S"
      },
      "source": [
        "#Inspecting Metadata in a STAC Item"
      ]
    },
    {
      "cell_type": "code",
      "execution_count": 14,
      "id": "0d43378b-c472-4ebf-b76e-cc50f96111ff",
      "metadata": {
        "id": "0d43378b-c472-4ebf-b76e-cc50f96111ff",
        "colab": {
          "base_uri": "https://localhost:8080/"
        },
        "outputId": "9895cf26-7f87-4ff6-d0eb-65bcfc12a323"
      },
      "outputs": [
        {
          "output_type": "stream",
          "name": "stderr",
          "text": [
            "WARNING [ceda_datapoint.mixins.properties]: Attribute not found from options: ['variables', 'variable_long_name']\n"
          ]
        },
        {
          "output_type": "stream",
          "name": "stdout",
          "text": [
            "None\n",
            "{'type': 'Feature', 'stac_version': '1.1.0', 'stac_extensions': ['https://stac-extensions.github.io/cmip6/v1.0.0/schema.json'], 'id': 'CMIP6.ScenarioMIP.KIOST.KIOST-ESM.ssp585.r1i1p1f1.Amon.tas.gr1.v20191106', 'geometry': {'type': 'Polygon', 'coordinates': [[[-179.0625, -90.0], [179.0625, -90.0], [179.0625, 90.0], [-179.0625, 90.0], [-179.0625, -90.0]]]}, 'bbox': [-179.0625, -90.0, 179.0625, 90.0], 'links': [{'rel': 'self', 'href': 'https://api.stac.ceda.ac.uk/collections/cmip6/items/CMIP6.ScenarioMIP.KIOST.KIOST-ESM.ssp585.r1i1p1f1.Amon.tas.gr1.v20191106', 'type': 'application/geo+json'}, {'rel': 'parent', 'href': 'https://api.stac.ceda.ac.uk/collections/cmip6', 'type': 'application/json'}, {'rel': 'collection', 'href': 'https://api.stac.ceda.ac.uk/collections/cmip6', 'type': 'application/json', 'title': 'CMIP6'}, {'rel': 'root', 'href': 'https://api.stac.ceda.ac.uk', 'type': 'application/json', 'title': 'CEDA STAC API'}], 'collection': 'cmip6'}\n",
            "{'title': 'CMIP6.ScenarioMIP.KIOST.KIOST-ESM.ssp585.r1i1p1f1.Amon.tas.gr1.v20191106', 'datetime': '2058-01-01T12:00:00Z', 'updated': '2025-01-24T20:07:51.314164Z', 'start_datetime': '2015-01-17T12:00:00Z', 'end_datetime': '2100-12-17T12:00:00Z', 'product': 'model-output', 'project': 'CMIP6', 'model_cohort': 'Registered', 'realm': ['atmos'], 'cmip6:access': ['HTTPServer'], 'cmip6:retracted': False, 'cmip6:citation_url': 'http://cera-www.dkrz.de/WDCC/meta/CMIP6/CMIP6.ScenarioMIP.KIOST.KIOST-ESM.ssp585.r1i1p1f1.Amon.tas.gr1.v20191106.json', 'cmip6:variable_long_name': 'Near-Surface Air Temperature', 'cmip6:variable_units': 'K', 'cmip6:cf_standard_name': 'air_temperature', 'cmip6:activity_id': 'ScenarioMIP', 'cmip6:data_specs_version': '01.00.30', 'cmip6:experiment_title': 'update of RCP8.5 based on SSP5', 'cmip6:frequency': 'mon', 'cmip6:further_info_url': 'https://furtherinfo.es-doc.org/CMIP6.KIOST.KIOST-ESM.ssp585.none.r1i1p1f1', 'cmip6:grid': 'atmos data regridded from Cubed-sphere (c48) to 94X192', 'cmip6:grid_label': 'gr1', 'cmip6:institution_id': 'KIOST', 'cmip6:mip_era': 'CMIP6', 'cmip6:source_id': 'KIOST-ESM', 'cmip6:source_type': 'AGCM', 'cmip6:experiment_id': 'ssp585', 'cmip6:sub_experiment_id': 'none', 'cmip6:nominal_resolution': '250 km', 'cmip6:table_id': 'Amon', 'cmip6:variable_id': 'tas', 'cmip6:variant_label': 'r1i1p1f1', 'created': '2025-01-24T20:07:51.314164Z'}\n"
          ]
        }
      ],
      "source": [
        "# Try checking the 'variables' attribute to see if the data is present there\n",
        "print(tas_product.variables)\n",
        "\n",
        "# Or inspect the 'stac_attributes' for any relevant metadata\n",
        "print(tas_product.stac_attributes)\n",
        "\n",
        "# You can also explore 'attributes' if the other two don't help\n",
        "print(tas_product.attributes)"
      ]
    },
    {
      "cell_type": "markdown",
      "id": "ORWETNbxmMzP",
      "metadata": {
        "id": "ORWETNbxmMzP"
      },
      "source": [
        "# CMIP6 STAC to GeoCroissant Converter"
      ]
    },
    {
      "cell_type": "code",
      "source": [
        "from ceda_datapoint import DataPointClient\n",
        "from mlcroissant import Dataset\n",
        "from urllib.parse import urlparse\n",
        "import requests\n",
        "import json\n",
        "\n",
        "\n",
        "def get_asset_type(asset_href):\n",
        "    \"\"\"Determine asset type from href/file extension\"\"\"\n",
        "    path = urlparse(asset_href).path.lower()\n",
        "    if path.endswith('.json'):\n",
        "        return 'application/json'\n",
        "    elif path.endswith(('.nc', '.netcdf', '.cdf')):\n",
        "        return 'application/netcdf'\n",
        "    elif path.endswith('.zarr'):\n",
        "        return 'application/zarr'\n",
        "    elif path.endswith(('.tif', '.tiff', '.geotiff')):\n",
        "        return 'image/tiff'\n",
        "    else:\n",
        "        return 'application/octet-stream'\n",
        "\n",
        "\n",
        "def stac_to_geocroissant(stac_item):\n",
        "    \"\"\"Convert full STAC item (dict) to GeoCroissant metadata\"\"\"\n",
        "    properties = stac_item.get('properties', {})\n",
        "    assets = stac_item.get('assets', {})\n",
        "    bbox = stac_item.get('bbox', [])\n",
        "    geometry = stac_item.get('geometry', {})\n",
        "    item_id = stac_item.get('id', 'unknown')\n",
        "\n",
        "    print(f\"[INFO] Found assets: {list(assets.keys())}\")\n",
        "    for k, v in assets.items():\n",
        "        print(f\"  - {k}: href={v.get('href')}\")\n",
        "\n",
        "    variable_name = properties.get('cmip6:variable_long_name', 'Unknown')\n",
        "    variable_id = properties.get('cmip6:variable_id', 'tas')\n",
        "    variable_units = properties.get('cmip6:variable_units', 'K')\n",
        "\n",
        "    croissant_metadata = {\n",
        "        \"@context\": {\n",
        "            \"@vocab\": \"https://schema.org/\",\n",
        "            \"geocr\": \"https://mlcommons.org/croissant/geocroissant/1.0\",\n",
        "            \"cr\": \"https://mlcommons.org/croissant/1.0\",\n",
        "            \"cmip6\": \"https://w3id.org/cmip6/\",\n",
        "            \"fileObject\": \"cr:FileObject\",\n",
        "            \"fileSet\": \"cr:FileSet\",\n",
        "            \"recordSet\": \"cr:RecordSet\",\n",
        "            \"field\": \"cr:Field\",\n",
        "            \"data\": {\"@id\": \"cr:data\", \"@type\": \"@json\"},\n",
        "            \"source\": \"cr:source\",\n",
        "            \"references\": \"cr:references\",\n",
        "            \"transform\": \"cr:transform\",\n",
        "            \"format\": \"cr:format\"\n",
        "        },\n",
        "        \"@type\": \"Dataset\",\n",
        "        \"name\": properties.get('title', item_id),\n",
        "        \"description\": f\"CMIP6 dataset for temperature: {variable_name}\",\n",
        "        \"license\": \"https://creativecommons.org/licenses/by/4.0/\",\n",
        "        \"distribution\": {\n",
        "            \"@type\": \"FileSet\",\n",
        "            \"name\": \"cmip6_data_files\",\n",
        "            \"description\": f\"Collection of data files for {variable_name} dataset\",\n",
        "            \"containedIn\": [\n",
        "                {\n",
        "                    \"@type\": \"FileObject\",\n",
        "                    \"name\": asset_key,\n",
        "                    \"description\": f\"{asset_key} asset for {item_id}\",\n",
        "                    \"contentUrl\": asset.get('href', 'N/A'),\n",
        "                    \"encodingFormat\": get_asset_type(asset.get('href', '')),\n",
        "                    \"cmip6:variable_id\": variable_id,\n",
        "                    \"cmip6:variable_long_name\": variable_name,\n",
        "                    \"cmip6:variable_units\": variable_units\n",
        "                }\n",
        "                for asset_key, asset in assets.items()\n",
        "            ]\n",
        "        },\n",
        "        \"recordSet\": [\n",
        "            {\n",
        "                \"@type\": \"RecordSet\",\n",
        "                \"name\": \"geospatial_metadata\",\n",
        "                \"description\": \"Geospatial metadata extracted from STAC\",\n",
        "                \"field\": [\n",
        "                    {\n",
        "                        \"@type\": \"Field\",\n",
        "                        \"name\": \"bounding_box\",\n",
        "                        \"description\": \"Dataset bounding box\",\n",
        "                        \"data\": bbox\n",
        "                    },\n",
        "                    {\n",
        "                        \"@type\": \"Field\",\n",
        "                        \"name\": \"geometry\",\n",
        "                        \"description\": \"Dataset geometry\",\n",
        "                        \"data\": geometry\n",
        "                    },\n",
        "                    {\n",
        "                        \"@type\": \"Field\",\n",
        "                        \"name\": \"temporal_coverage\",\n",
        "                        \"description\": \"Temporal coverage\",\n",
        "                        \"data\": f\"{properties.get('start_datetime', '')}/{properties.get('end_datetime', '')}\"\n",
        "                    }\n",
        "                ]\n",
        "            },\n",
        "            {\n",
        "                \"@type\": \"RecordSet\",\n",
        "                \"name\": \"cmip6_metadata\",\n",
        "                \"description\": \"CMIP6-specific metadata\",\n",
        "                \"field\": [\n",
        "                    {\n",
        "                        \"@type\": \"Field\",\n",
        "                        \"name\": \"activity_id\",\n",
        "                        \"description\": \"CMIP6 activity ID\",\n",
        "                        \"data\": properties.get('cmip6:activity_id', '')\n",
        "                    },\n",
        "                    {\n",
        "                        \"@type\": \"Field\",\n",
        "                        \"name\": \"experiment_id\",\n",
        "                        \"description\": \"CMIP6 experiment ID\",\n",
        "                        \"data\": properties.get('cmip6:experiment_id', '')\n",
        "                    }\n",
        "                ]\n",
        "            }\n",
        "        ]\n",
        "    }\n",
        "    return croissant_metadata\n",
        "\n",
        "\n",
        "def main():\n",
        "    try:\n",
        "        client = DataPointClient(org=\"CEDA\")\n",
        "\n",
        "        search = client.search(\n",
        "            collections=['cmip6'],\n",
        "            query=[\n",
        "                'cmip6:experiment_id=ssp585',\n",
        "                'cmip6:activity_id=ScenarioMIP',\n",
        "                'cmip6:institution_id=KIOST',\n",
        "                'cmip6:variable_id=tas',\n",
        "            ],\n",
        "            max_items=1\n",
        "        )\n",
        "        _, datapoint_item = next(iter(search.items.items()))\n",
        "\n",
        "        # Extract 'self' STAC URL\n",
        "        stac_url = None\n",
        "        for link in datapoint_item.stac_attributes.get(\"links\", []):\n",
        "            if link.get(\"rel\") == \"self\":\n",
        "                stac_url = link[\"href\"]\n",
        "                break\n",
        "\n",
        "        if not stac_url:\n",
        "            raise RuntimeError(\"Could not find 'self' link in STAC metadata.\")\n",
        "\n",
        "        print(f\"[INFO] Fetching full STAC item from: {stac_url}\")\n",
        "        response = requests.get(stac_url)\n",
        "        response.raise_for_status()\n",
        "        stac_item_full = response.json()\n",
        "\n",
        "        geocroissant_data = stac_to_geocroissant(stac_item_full)\n",
        "\n",
        "        output_path = 'ceda_cmip6_geocroissant.json'\n",
        "        with open(output_path, 'w') as f:\n",
        "            json.dump(geocroissant_data, f, indent=2)\n",
        "\n",
        "        dataset = Dataset(output_path)\n",
        "        print(\"\\n✅ Successfully generated and validated GeoCroissant metadata!\")\n",
        "        print(json.dumps(geocroissant_data, indent=2))\n",
        "\n",
        "    except Exception as e:\n",
        "        print(f\"\\n❌ Error: {str(e)}\")\n",
        "        if 'geocroissant_data' in locals():\n",
        "            print(\"Generated metadata (may be invalid):\")\n",
        "            print(json.dumps(geocroissant_data, indent=2))\n",
        "\n",
        "\n",
        "if __name__ == \"__main__\":\n",
        "    main()"
      ],
      "metadata": {
        "colab": {
          "base_uri": "https://localhost:8080/"
        },
        "id": "iWubY_R-djxM",
        "outputId": "9e82f0f5-7efe-4c56-d995-00d08abac9df"
      },
      "id": "iWubY_R-djxM",
      "execution_count": 24,
      "outputs": [
        {
          "output_type": "stream",
          "name": "stdout",
          "text": [
            "[INFO] Fetching full STAC item from: https://api.stac.ceda.ac.uk/collections/cmip6/items/CMIP6.ScenarioMIP.KIOST.KIOST-ESM.ssp585.r1i1p1f1.Amon.tas.gr1.v20191106\n"
          ]
        },
        {
          "output_type": "stream",
          "name": "stderr",
          "text": [
            "WARNING:absl:WARNING: The JSON-LD `@context` is not standard. Refer to the official @context (e.g., from the example datasets in https://github.com/mlcommons/croissant/tree/main/datasets/1.0). The different keys are: {'column', 'dct', 'isLiveDataset', 'path', 'examples', 'replace', 'separator', 'rai', 'jsonPath', 'regex', 'extract', 'citeAs', 'md5', 'includes', 'repeated', 'conformsTo', 'subField', 'key', 'samplingRate', 'dataType', '@language', 'fileProperty', 'parentField', 'sc'}\n"
          ]
        },
        {
          "output_type": "stream",
          "name": "stdout",
          "text": [
            "[INFO] Found assets: ['reference_file', 'data0001']\n",
            "  - reference_file: href=https://dap.ceda.ac.uk/badc/cmip6/metadata/kerchunk/pipeline1/ScenarioMIP/KIOST/KIOST-ESM/kr1.0/CMIP6_ScenarioMIP_KIOST_KIOST-ESM_ssp585_r1i1p1f1_Amon_tas_gr1_v20191106_kr1.0.json\n",
            "  - data0001: href=https://dap.ceda.ac.uk/badc/cmip6/data/CMIP6/ScenarioMIP/KIOST/KIOST-ESM/ssp585/r1i1p1f1/Amon/tas/gr1/v20191106/tas_Amon_KIOST-ESM_ssp585_r1i1p1f1_gr1_201501-210012.nc\n",
            "\n",
            "❌ Error: Found the following 4 error(s) during the validation:\n",
            "  -  [Metadata(CMIP6.ScenarioMIP.KIOST.KIOST-ESM.ssp585.r1i1p1f1.Amon.tas.gr1.v20191106) > FileSet(cmip6_data_files)] Property \"http://mlcommons.org/schema/includes\" is mandatory, but does not exist.\n",
            "  -  [Metadata(CMIP6.ScenarioMIP.KIOST.KIOST-ESM.ssp585.r1i1p1f1.Amon.tas.gr1.v20191106) > FileSet(cmip6_data_files)] Property \"https://schema.org/encodingFormat\" is mandatory, but does not exist.\n",
            "  -  [Metadata(CMIP6.ScenarioMIP.KIOST.KIOST-ESM.ssp585.r1i1p1f1.Amon.tas.gr1.v20191106) > FileSet(cmip6_data_files)] There is a reference to node with UUID \"_:N69e8c2dde16543879a20a7e32be8a5e4\" in node \"cmip6_data_files\", but this node doesn't exist.\n",
            "  -  [Metadata(CMIP6.ScenarioMIP.KIOST.KIOST-ESM.ssp585.r1i1p1f1.Amon.tas.gr1.v20191106) > FileSet(cmip6_data_files)] There is a reference to node with UUID \"_:Nb8730a264544406a95387cd229a26d43\" in node \"cmip6_data_files\", but this node doesn't exist.\n",
            "Found the following 3 warning(s) during the validation:\n",
            "  -  [Metadata(CMIP6.ScenarioMIP.KIOST.KIOST-ESM.ssp585.r1i1p1f1.Amon.tas.gr1.v20191106)] Property \"https://schema.org/citation\" is recommended, but does not exist.\n",
            "  -  [Metadata(CMIP6.ScenarioMIP.KIOST.KIOST-ESM.ssp585.r1i1p1f1.Amon.tas.gr1.v20191106)] Property \"https://schema.org/datePublished\" is recommended, but does not exist.\n",
            "  -  [Metadata(CMIP6.ScenarioMIP.KIOST.KIOST-ESM.ssp585.r1i1p1f1.Amon.tas.gr1.v20191106)] Property \"https://schema.org/version\" is recommended, but does not exist.\n",
            "Generated metadata (may be invalid):\n",
            "{\n",
            "  \"@context\": {\n",
            "    \"@vocab\": \"https://schema.org/\",\n",
            "    \"geocr\": \"https://mlcommons.org/croissant/geocroissant/1.0\",\n",
            "    \"cr\": \"https://mlcommons.org/croissant/1.0\",\n",
            "    \"cmip6\": \"https://w3id.org/cmip6/\",\n",
            "    \"fileObject\": \"cr:FileObject\",\n",
            "    \"fileSet\": \"cr:FileSet\",\n",
            "    \"recordSet\": \"cr:RecordSet\",\n",
            "    \"field\": \"cr:Field\",\n",
            "    \"data\": {\n",
            "      \"@id\": \"cr:data\",\n",
            "      \"@type\": \"@json\"\n",
            "    },\n",
            "    \"source\": \"cr:source\",\n",
            "    \"references\": \"cr:references\",\n",
            "    \"transform\": \"cr:transform\",\n",
            "    \"format\": \"cr:format\"\n",
            "  },\n",
            "  \"@type\": \"Dataset\",\n",
            "  \"name\": \"CMIP6.ScenarioMIP.KIOST.KIOST-ESM.ssp585.r1i1p1f1.Amon.tas.gr1.v20191106\",\n",
            "  \"description\": \"CMIP6 dataset for temperature: Near-Surface Air Temperature\",\n",
            "  \"license\": \"https://creativecommons.org/licenses/by/4.0/\",\n",
            "  \"distribution\": {\n",
            "    \"@type\": \"FileSet\",\n",
            "    \"name\": \"cmip6_data_files\",\n",
            "    \"description\": \"Collection of data files for Near-Surface Air Temperature dataset\",\n",
            "    \"containedIn\": [\n",
            "      {\n",
            "        \"@type\": \"FileObject\",\n",
            "        \"name\": \"reference_file\",\n",
            "        \"description\": \"reference_file asset for CMIP6.ScenarioMIP.KIOST.KIOST-ESM.ssp585.r1i1p1f1.Amon.tas.gr1.v20191106\",\n",
            "        \"contentUrl\": \"https://dap.ceda.ac.uk/badc/cmip6/metadata/kerchunk/pipeline1/ScenarioMIP/KIOST/KIOST-ESM/kr1.0/CMIP6_ScenarioMIP_KIOST_KIOST-ESM_ssp585_r1i1p1f1_Amon_tas_gr1_v20191106_kr1.0.json\",\n",
            "        \"encodingFormat\": \"application/json\",\n",
            "        \"cmip6:variable_id\": \"tas\",\n",
            "        \"cmip6:variable_long_name\": \"Near-Surface Air Temperature\",\n",
            "        \"cmip6:variable_units\": \"K\"\n",
            "      },\n",
            "      {\n",
            "        \"@type\": \"FileObject\",\n",
            "        \"name\": \"data0001\",\n",
            "        \"description\": \"data0001 asset for CMIP6.ScenarioMIP.KIOST.KIOST-ESM.ssp585.r1i1p1f1.Amon.tas.gr1.v20191106\",\n",
            "        \"contentUrl\": \"https://dap.ceda.ac.uk/badc/cmip6/data/CMIP6/ScenarioMIP/KIOST/KIOST-ESM/ssp585/r1i1p1f1/Amon/tas/gr1/v20191106/tas_Amon_KIOST-ESM_ssp585_r1i1p1f1_gr1_201501-210012.nc\",\n",
            "        \"encodingFormat\": \"application/netcdf\",\n",
            "        \"cmip6:variable_id\": \"tas\",\n",
            "        \"cmip6:variable_long_name\": \"Near-Surface Air Temperature\",\n",
            "        \"cmip6:variable_units\": \"K\"\n",
            "      }\n",
            "    ]\n",
            "  },\n",
            "  \"recordSet\": [\n",
            "    {\n",
            "      \"@type\": \"RecordSet\",\n",
            "      \"name\": \"geospatial_metadata\",\n",
            "      \"description\": \"Geospatial metadata extracted from STAC\",\n",
            "      \"field\": [\n",
            "        {\n",
            "          \"@type\": \"Field\",\n",
            "          \"name\": \"bounding_box\",\n",
            "          \"description\": \"Dataset bounding box\",\n",
            "          \"data\": [\n",
            "            -179.0625,\n",
            "            -90.0,\n",
            "            179.0625,\n",
            "            90.0\n",
            "          ]\n",
            "        },\n",
            "        {\n",
            "          \"@type\": \"Field\",\n",
            "          \"name\": \"geometry\",\n",
            "          \"description\": \"Dataset geometry\",\n",
            "          \"data\": {\n",
            "            \"type\": \"Polygon\",\n",
            "            \"coordinates\": [\n",
            "              [\n",
            "                [\n",
            "                  -179.0625,\n",
            "                  -90.0\n",
            "                ],\n",
            "                [\n",
            "                  179.0625,\n",
            "                  -90.0\n",
            "                ],\n",
            "                [\n",
            "                  179.0625,\n",
            "                  90.0\n",
            "                ],\n",
            "                [\n",
            "                  -179.0625,\n",
            "                  90.0\n",
            "                ],\n",
            "                [\n",
            "                  -179.0625,\n",
            "                  -90.0\n",
            "                ]\n",
            "              ]\n",
            "            ]\n",
            "          }\n",
            "        },\n",
            "        {\n",
            "          \"@type\": \"Field\",\n",
            "          \"name\": \"temporal_coverage\",\n",
            "          \"description\": \"Temporal coverage\",\n",
            "          \"data\": \"2015-01-17T12:00:00Z/2100-12-17T12:00:00Z\"\n",
            "        }\n",
            "      ]\n",
            "    },\n",
            "    {\n",
            "      \"@type\": \"RecordSet\",\n",
            "      \"name\": \"cmip6_metadata\",\n",
            "      \"description\": \"CMIP6-specific metadata\",\n",
            "      \"field\": [\n",
            "        {\n",
            "          \"@type\": \"Field\",\n",
            "          \"name\": \"activity_id\",\n",
            "          \"description\": \"CMIP6 activity ID\",\n",
            "          \"data\": \"ScenarioMIP\"\n",
            "        },\n",
            "        {\n",
            "          \"@type\": \"Field\",\n",
            "          \"name\": \"experiment_id\",\n",
            "          \"description\": \"CMIP6 experiment ID\",\n",
            "          \"data\": \"ssp585\"\n",
            "        }\n",
            "      ]\n",
            "    }\n",
            "  ]\n",
            "}\n"
          ]
        }
      ]
    },
    {
      "cell_type": "markdown",
      "id": "c54928a3",
      "metadata": {
        "id": "c54928a3"
      },
      "source": [
        "# Visualization with GeoCrossiant"
      ]
    },
    {
      "cell_type": "code",
      "execution_count": 36,
      "id": "98bc38c6-0c06-410f-bab6-5b77231a6ba8",
      "metadata": {
        "id": "98bc38c6-0c06-410f-bab6-5b77231a6ba8",
        "colab": {
          "base_uri": "https://localhost:8080/",
          "height": 978
        },
        "outputId": "d33d9b7c-3398-4c18-cea8-3f629782f095"
      },
      "outputs": [
        {
          "output_type": "stream",
          "name": "stdout",
          "text": [
            "NetCDF file URL: https://dap.ceda.ac.uk/badc/cmip6/data/CMIP6/ScenarioMIP/KIOST/KIOST-ESM/ssp585/r1i1p1f1/Amon/tas/gr1/v20191106/tas_Amon_KIOST-ESM_ssp585_r1i1p1f1_gr1_201501-210012.nc\n",
            "<xarray.Dataset> Size: 76MB\n",
            "Dimensions:    (lat: 96, bnds: 2, lon: 192, time: 1032)\n",
            "Coordinates:\n",
            "  * time       (time) object 8kB 2015-01-17 12:00:00 ... 2100-12-17 12:00:00\n",
            "  * lon        (lon) float64 2kB 0.9375 2.812 4.688 6.563 ... 355.3 357.2 359.1\n",
            "  * lat        (lat) float64 768B -90.0 -88.11 -86.21 ... 86.21 88.11 90.0\n",
            "Dimensions without coordinates: bnds\n",
            "Data variables:\n",
            "    lat_bnds   (lat, bnds) float64 2kB ...\n",
            "    lon_bnds   (lon, bnds) float64 3kB ...\n",
            "    time_bnds  (time, bnds) object 17kB ...\n",
            "    tas        (time, lat, lon) float32 76MB ...\n",
            "Attributes: (12/47)\n",
            "    Conventions:            CF-1.7 CMIP-6.2\n",
            "    activity_id:            ScenarioMIP\n",
            "    branch_method:          standard\n",
            "    branch_time_in_child:   60266.0\n",
            "    branch_time_in_parent:  60266.0\n",
            "    contact:                YoungHo Kim (yhokim@pknu.ac.kr & yhkimstar@gmail....\n",
            "    ...                     ...\n",
            "    title:                  KIOST-ESM output prepared for CMIP6\n",
            "    tracking_id:            hdl:21.14100/b1a49f4a-9089-4672-94c0-d339e55874fb\n",
            "    variable_id:            tas\n",
            "    variant_label:          r1i1p1f1\n",
            "    license:                CMIP6 model data produced by Lawrence Livermore K...\n",
            "    cmor_version:           3.5.0\n",
            "Plotting 'tas' at 2015-01-17 12:00:00\n"
          ]
        },
        {
          "output_type": "display_data",
          "data": {
            "text/plain": [
              "<Figure size 640x480 with 2 Axes>"
            ],
            "image/png": "[encoded data removed]"
          },
          "metadata": {}
        }
      ],
      "source": [
        "import json\n",
        "import xarray as xr\n",
        "import matplotlib.pyplot as plt\n",
        "import fsspec\n",
        "\n",
        "GEO_CROISSANT_JSON = \"ceda_cmip6_geocroissant.json\"\n",
        "\n",
        "def find_netcdf_url(metadata: dict) -> str:\n",
        "    for obj in metadata.get(\"@graph\", []):\n",
        "        if obj.get(\"encodingFormat\") == \"application/netcdf\":\n",
        "            return obj[\"contentUrl\"]\n",
        "    raise ValueError(\"Could not find NetCDF file in metadata.\")\n",
        "\n",
        "def main():\n",
        "    # Load metadata\n",
        "    with open(GEO_CROISSANT_JSON, \"r\") as f:\n",
        "        metadata = json.load(f)\n",
        "\n",
        "    # Get NetCDF URL\n",
        "    nc_url = find_netcdf_url(metadata)\n",
        "    print(f\"NetCDF file URL: {nc_url}\")\n",
        "\n",
        "    # Open using HTTPFileSystem\n",
        "    fs = fsspec.filesystem(\"https\")\n",
        "    with fs.open(nc_url) as f:\n",
        "        ds = xr.open_dataset(f)\n",
        "        print(ds)\n",
        "\n",
        "        variable = \"tas\"\n",
        "        time_value = str(ds[\"time\"].values[0])\n",
        "        print(f\"Plotting '{variable}' at {time_value}\")\n",
        "\n",
        "        tas = ds[variable].sel(time=time_value).squeeze()\n",
        "        tas.plot()\n",
        "        plt.title(f\"{variable} at {time_value}\")\n",
        "        plt.show()\n",
        "\n",
        "if __name__ == \"__main__\":\n",
        "    main()"
      ]
    },
    {
      "cell_type": "code",
      "source": [],
      "metadata": {
        "id": "tjtc5WMZnt5P"
      },
      "id": "tjtc5WMZnt5P",
      "execution_count": null,
      "outputs": []
    }
  ],
  "metadata": {
    "colab": {
      "provenance": []
    },
    "kernelspec": {
      "display_name": "Python 3",
      "language": "python",
      "name": "python3"
    },
    "language_info": {
      "codemirror_mode": {
        "name": "ipython",
        "version": 3
      },
      "file_extension": ".py",
      "mimetype": "text/x-python",
      "name": "python",
      "nbconvert_exporter": "python",
      "pygments_lexer": "ipython3",
      "version": "3.10.10"
    }
  },
  "nbformat": 4,
  "nbformat_minor": 5
}